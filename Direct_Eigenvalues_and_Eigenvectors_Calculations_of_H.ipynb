{
  "nbformat": 4,
  "nbformat_minor": 0,
  "metadata": {
    "colab": {
      "name": "Direct Eigenvalues and Eigenvectors Calculations of H",
      "provenance": [],
      "collapsed_sections": [],
      "authorship_tag": "ABX9TyNW2C3xknvdMdSLldXHW9mv",
      "include_colab_link": true
    },
    "kernelspec": {
      "name": "python3",
      "display_name": "Python 3"
    }
  },
  "cells": [
    {
      "cell_type": "markdown",
      "metadata": {
        "id": "view-in-github",
        "colab_type": "text"
      },
      "source": [
        "<a href=\"https://colab.research.google.com/github/andysun-1997/VQE-Sample-Problem-with-Cirq-and-TensorFlow-Quantum/blob/master/Direct_Eigenvalues_and_Eigenvectors_Calculations_of_H.ipynb\" target=\"_parent\"><img src=\"https://colab.research.google.com/assets/colab-badge.svg\" alt=\"Open In Colab\"/></a>"
      ]
    },
    {
      "cell_type": "code",
      "metadata": {
        "id": "YmEeKZVFTCRt",
        "colab_type": "code",
        "colab": {}
      },
      "source": [
        "import numpy as np\n",
        "from numpy import linalg as LA"
      ],
      "execution_count": 0,
      "outputs": []
    },
    {
      "cell_type": "code",
      "metadata": {
        "id": "zJQwgBQbTEzI",
        "colab_type": "code",
        "colab": {}
      },
      "source": [
        "X = np.matrix(((0,1), (1,0)))"
      ],
      "execution_count": 0,
      "outputs": []
    },
    {
      "cell_type": "code",
      "metadata": {
        "id": "zNXMXqa0TPgF",
        "colab_type": "code",
        "colab": {}
      },
      "source": [
        "I = np.matrix(((1,0), (0,1)))"
      ],
      "execution_count": 0,
      "outputs": []
    },
    {
      "cell_type": "code",
      "metadata": {
        "id": "SJ_AvJqkTdbU",
        "colab_type": "code",
        "outputId": "0d73dafe-9cab-4743-d6b2-b4b63cb0c635",
        "colab": {
          "base_uri": "https://localhost:8080/",
          "height": 87
        }
      },
      "source": [
        "XI = np.kron(X,I)\n",
        "XI"
      ],
      "execution_count": 0,
      "outputs": [
        {
          "output_type": "execute_result",
          "data": {
            "text/plain": [
              "matrix([[0, 0, 1, 0],\n",
              "        [0, 0, 0, 1],\n",
              "        [1, 0, 0, 0],\n",
              "        [0, 1, 0, 0]])"
            ]
          },
          "metadata": {
            "tags": []
          },
          "execution_count": 5
        }
      ]
    },
    {
      "cell_type": "code",
      "metadata": {
        "id": "pyM8KRGjThDC",
        "colab_type": "code",
        "outputId": "c9475807-93dc-4490-df13-20bfcdd9f139",
        "colab": {
          "base_uri": "https://localhost:8080/",
          "height": 156
        }
      },
      "source": [
        "H1 = np.kron(XI, X)\n",
        "H1"
      ],
      "execution_count": 0,
      "outputs": [
        {
          "output_type": "execute_result",
          "data": {
            "text/plain": [
              "matrix([[0, 0, 0, 0, 0, 1, 0, 0],\n",
              "        [0, 0, 0, 0, 1, 0, 0, 0],\n",
              "        [0, 0, 0, 0, 0, 0, 0, 1],\n",
              "        [0, 0, 0, 0, 0, 0, 1, 0],\n",
              "        [0, 1, 0, 0, 0, 0, 0, 0],\n",
              "        [1, 0, 0, 0, 0, 0, 0, 0],\n",
              "        [0, 0, 0, 1, 0, 0, 0, 0],\n",
              "        [0, 0, 1, 0, 0, 0, 0, 0]])"
            ]
          },
          "metadata": {
            "tags": []
          },
          "execution_count": 6
        }
      ]
    },
    {
      "cell_type": "code",
      "metadata": {
        "id": "gbIx3bQfXd2R",
        "colab_type": "code",
        "outputId": "f1498eb4-3037-42e6-b887-2687d69a8867",
        "colab": {
          "base_uri": "https://localhost:8080/",
          "height": 312
        }
      },
      "source": [
        "e1, v1 = LA.eigh(H1)\n",
        "e1, v1"
      ],
      "execution_count": 0,
      "outputs": [
        {
          "output_type": "execute_result",
          "data": {
            "text/plain": [
              "(array([-1., -1., -1., -1.,  1.,  1.,  1.,  1.]),\n",
              " matrix([[-0.70710678, -0.        , -0.        , -0.        ,  0.        ,\n",
              "           0.        ,  0.        , -0.70710678],\n",
              "         [ 0.        , -0.        ,  0.70710678, -0.        , -0.70710678,\n",
              "           0.        ,  0.        ,  0.        ],\n",
              "         [ 0.        , -0.70710678,  0.        , -0.        ,  0.        ,\n",
              "          -0.70710678,  0.        ,  0.        ],\n",
              "         [ 0.        ,  0.        ,  0.        ,  0.70710678,  0.        ,\n",
              "           0.        , -0.70710678,  0.        ],\n",
              "         [ 0.        ,  0.        , -0.70710678,  0.        , -0.70710678,\n",
              "           0.        ,  0.        ,  0.        ],\n",
              "         [ 0.70710678,  0.        ,  0.        ,  0.        ,  0.        ,\n",
              "           0.        ,  0.        , -0.70710678],\n",
              "         [-0.        ,  0.        , -0.        , -0.70710678,  0.        ,\n",
              "           0.        , -0.70710678,  0.        ],\n",
              "         [-0.        ,  0.70710678, -0.        ,  0.        ,  0.        ,\n",
              "          -0.70710678,  0.        ,  0.        ]]))"
            ]
          },
          "metadata": {
            "tags": []
          },
          "execution_count": 7
        }
      ]
    },
    {
      "cell_type": "code",
      "metadata": {
        "id": "2NWIvQDBORPu",
        "colab_type": "code",
        "outputId": "9ee09f3e-dfb2-483a-a7e8-9c41e1dd43bd",
        "colab": {
          "base_uri": "https://localhost:8080/",
          "height": 156
        }
      },
      "source": [
        "v1[:, 0]"
      ],
      "execution_count": 0,
      "outputs": [
        {
          "output_type": "execute_result",
          "data": {
            "text/plain": [
              "matrix([[-0.70710678],\n",
              "        [ 0.        ],\n",
              "        [ 0.        ],\n",
              "        [ 0.        ],\n",
              "        [ 0.        ],\n",
              "        [ 0.70710678],\n",
              "        [-0.        ],\n",
              "        [-0.        ]])"
            ]
          },
          "metadata": {
            "tags": []
          },
          "execution_count": 8
        }
      ]
    },
    {
      "cell_type": "code",
      "metadata": {
        "id": "2Gn3LDp5Ue7X",
        "colab_type": "code",
        "colab": {}
      },
      "source": [
        "Z = np.matrix(((1,0), (0,-1)))"
      ],
      "execution_count": 0,
      "outputs": []
    },
    {
      "cell_type": "code",
      "metadata": {
        "id": "m5boMYxrU3oE",
        "colab_type": "code",
        "colab": {}
      },
      "source": [
        "ZI = np.kron(Z,I)"
      ],
      "execution_count": 0,
      "outputs": []
    },
    {
      "cell_type": "code",
      "metadata": {
        "id": "RqNCRfl9VCNJ",
        "colab_type": "code",
        "outputId": "75cd4923-5df9-4118-d8ad-b8661834b17d",
        "colab": {
          "base_uri": "https://localhost:8080/",
          "height": 156
        }
      },
      "source": [
        "H2 = 0.9*np.kron(ZI,I)\n",
        "H2"
      ],
      "execution_count": 0,
      "outputs": [
        {
          "output_type": "execute_result",
          "data": {
            "text/plain": [
              "matrix([[ 0.9,  0. ,  0. ,  0. ,  0. ,  0. ,  0. ,  0. ],\n",
              "        [ 0. ,  0.9,  0. ,  0. ,  0. ,  0. ,  0. ,  0. ],\n",
              "        [ 0. ,  0. ,  0.9,  0. ,  0. ,  0. ,  0. ,  0. ],\n",
              "        [ 0. ,  0. ,  0. ,  0.9,  0. ,  0. ,  0. ,  0. ],\n",
              "        [ 0. ,  0. ,  0. ,  0. , -0.9,  0. ,  0. ,  0. ],\n",
              "        [ 0. ,  0. ,  0. ,  0. ,  0. , -0.9,  0. ,  0. ],\n",
              "        [ 0. ,  0. ,  0. ,  0. ,  0. ,  0. , -0.9,  0. ],\n",
              "        [ 0. ,  0. ,  0. ,  0. ,  0. ,  0. ,  0. , -0.9]])"
            ]
          },
          "metadata": {
            "tags": []
          },
          "execution_count": 11
        }
      ]
    },
    {
      "cell_type": "code",
      "metadata": {
        "id": "bFghNnSTX4bZ",
        "colab_type": "code",
        "outputId": "bdf3b43c-0b47-42c3-c4cc-a82abfe282b8",
        "colab": {
          "base_uri": "https://localhost:8080/",
          "height": 173
        }
      },
      "source": [
        "e2, v2 = LA.eigh(H2)\n",
        "e2, v2"
      ],
      "execution_count": 0,
      "outputs": [
        {
          "output_type": "execute_result",
          "data": {
            "text/plain": [
              "(array([-0.9, -0.9, -0.9, -0.9,  0.9,  0.9,  0.9,  0.9]),\n",
              " matrix([[0., 0., 0., 0., 1., 0., 0., 0.],\n",
              "         [0., 0., 0., 0., 0., 1., 0., 0.],\n",
              "         [0., 0., 0., 0., 0., 0., 1., 0.],\n",
              "         [0., 0., 0., 0., 0., 0., 0., 1.],\n",
              "         [1., 0., 0., 0., 0., 0., 0., 0.],\n",
              "         [0., 1., 0., 0., 0., 0., 0., 0.],\n",
              "         [0., 0., 1., 0., 0., 0., 0., 0.],\n",
              "         [0., 0., 0., 1., 0., 0., 0., 0.]]))"
            ]
          },
          "metadata": {
            "tags": []
          },
          "execution_count": 12
        }
      ]
    },
    {
      "cell_type": "code",
      "metadata": {
        "id": "t17u9kytVGXN",
        "colab_type": "code",
        "colab": {}
      },
      "source": [
        "II = np.kron(I,I)"
      ],
      "execution_count": 0,
      "outputs": []
    },
    {
      "cell_type": "code",
      "metadata": {
        "id": "QBsQdfbGVTpB",
        "colab_type": "code",
        "outputId": "83c59789-b932-403d-f0c1-d92e8aaa62b5",
        "colab": {
          "base_uri": "https://localhost:8080/",
          "height": 52
        }
      },
      "source": [
        "Y = np.matrix(((0,-1j), (1j,0)))\n",
        "Y"
      ],
      "execution_count": 0,
      "outputs": [
        {
          "output_type": "execute_result",
          "data": {
            "text/plain": [
              "matrix([[ 0.+0.j, -0.-1.j],\n",
              "        [ 0.+1.j,  0.+0.j]])"
            ]
          },
          "metadata": {
            "tags": []
          },
          "execution_count": 15
        }
      ]
    },
    {
      "cell_type": "code",
      "metadata": {
        "id": "NXTakqrbVd2o",
        "colab_type": "code",
        "outputId": "cd247d6e-8ebc-46c5-fa28-b292b39df0ac",
        "colab": {
          "base_uri": "https://localhost:8080/",
          "height": 295
        }
      },
      "source": [
        "H3 = -0.3*np.kron(II,Y)\n",
        "H3"
      ],
      "execution_count": 0,
      "outputs": [
        {
          "output_type": "execute_result",
          "data": {
            "text/plain": [
              "matrix([[0.+0.j , 0.+0.3j, 0.+0.j , 0.+0.j , 0.+0.j , 0.+0.j , 0.+0.j ,\n",
              "         0.+0.j ],\n",
              "        [0.-0.3j, 0.+0.j , 0.+0.j , 0.+0.j , 0.+0.j , 0.+0.j , 0.+0.j ,\n",
              "         0.+0.j ],\n",
              "        [0.+0.j , 0.+0.j , 0.+0.j , 0.+0.3j, 0.+0.j , 0.+0.j , 0.+0.j ,\n",
              "         0.+0.j ],\n",
              "        [0.+0.j , 0.+0.j , 0.-0.3j, 0.+0.j , 0.+0.j , 0.+0.j , 0.+0.j ,\n",
              "         0.+0.j ],\n",
              "        [0.+0.j , 0.+0.j , 0.+0.j , 0.+0.j , 0.+0.j , 0.+0.3j, 0.+0.j ,\n",
              "         0.+0.j ],\n",
              "        [0.+0.j , 0.+0.j , 0.+0.j , 0.+0.j , 0.-0.3j, 0.+0.j , 0.+0.j ,\n",
              "         0.+0.j ],\n",
              "        [0.+0.j , 0.+0.j , 0.+0.j , 0.+0.j , 0.+0.j , 0.+0.j , 0.+0.j ,\n",
              "         0.+0.3j],\n",
              "        [0.+0.j , 0.+0.j , 0.+0.j , 0.+0.j , 0.+0.j , 0.+0.j , 0.-0.3j,\n",
              "         0.+0.j ]])"
            ]
          },
          "metadata": {
            "tags": []
          },
          "execution_count": 16
        }
      ]
    },
    {
      "cell_type": "code",
      "metadata": {
        "id": "HMd-6l-2V70R",
        "colab_type": "code",
        "outputId": "b1698d87-44f5-4380-9bbe-b7f052a3921f",
        "colab": {
          "base_uri": "https://localhost:8080/",
          "height": 589
        }
      },
      "source": [
        "e3, v3 = LA.eigh(H3)\n",
        "e3, v3"
      ],
      "execution_count": 0,
      "outputs": [
        {
          "output_type": "execute_result",
          "data": {
            "text/plain": [
              "(array([-0.3, -0.3, -0.3, -0.3,  0.3,  0.3,  0.3,  0.3]),\n",
              " matrix([[-0.70710678+0.j        , -0.        +0.j        ,\n",
              "          -0.        +0.j        , -0.        +0.j        ,\n",
              "           0.        +0.j        ,  0.        +0.j        ,\n",
              "           0.        +0.j        , -0.70710678+0.j        ],\n",
              "         [ 0.        -0.70710678j,  0.        +0.j        ,\n",
              "           0.        +0.j        ,  0.        +0.j        ,\n",
              "           0.        +0.j        ,  0.        +0.j        ,\n",
              "           0.        +0.j        ,  0.        +0.70710678j],\n",
              "         [-0.        +0.j        , -0.70710678+0.j        ,\n",
              "          -0.        +0.j        , -0.        +0.j        ,\n",
              "           0.        +0.j        , -0.70710678+0.j        ,\n",
              "           0.        +0.j        ,  0.        +0.j        ],\n",
              "         [ 0.        +0.j        ,  0.        -0.70710678j,\n",
              "           0.        +0.j        ,  0.        +0.j        ,\n",
              "           0.        +0.j        ,  0.        +0.70710678j,\n",
              "           0.        +0.j        ,  0.        +0.j        ],\n",
              "         [-0.        +0.j        , -0.        +0.j        ,\n",
              "          -0.70710678+0.j        , -0.        +0.j        ,\n",
              "          -0.70710678+0.j        ,  0.        +0.j        ,\n",
              "           0.        +0.j        ,  0.        +0.j        ],\n",
              "         [ 0.        +0.j        ,  0.        +0.j        ,\n",
              "           0.        -0.70710678j,  0.        +0.j        ,\n",
              "           0.        +0.70710678j,  0.        +0.j        ,\n",
              "           0.        +0.j        ,  0.        +0.j        ],\n",
              "         [-0.        +0.j        , -0.        +0.j        ,\n",
              "          -0.        +0.j        , -0.70710678+0.j        ,\n",
              "           0.        +0.j        ,  0.        +0.j        ,\n",
              "          -0.70710678+0.j        ,  0.        +0.j        ],\n",
              "         [ 0.        +0.j        ,  0.        +0.j        ,\n",
              "           0.        +0.j        ,  0.        -0.70710678j,\n",
              "           0.        +0.j        ,  0.        +0.j        ,\n",
              "           0.        +0.70710678j,  0.        +0.j        ]]))"
            ]
          },
          "metadata": {
            "tags": []
          },
          "execution_count": 17
        }
      ]
    },
    {
      "cell_type": "code",
      "metadata": {
        "id": "76klgNloYWpE",
        "colab_type": "code",
        "outputId": "40a74a82-2424-47c1-d949-4b1afa7c9897",
        "colab": {
          "base_uri": "https://localhost:8080/",
          "height": 295
        }
      },
      "source": [
        "H = H1 + H2 + H3\n",
        "H"
      ],
      "execution_count": 0,
      "outputs": [
        {
          "output_type": "execute_result",
          "data": {
            "text/plain": [
              "matrix([[ 0.9+0.j ,  0. +0.3j,  0. +0.j ,  0. +0.j ,  0. +0.j ,\n",
              "          1. +0.j ,  0. +0.j ,  0. +0.j ],\n",
              "        [ 0. -0.3j,  0.9+0.j ,  0. +0.j ,  0. +0.j ,  1. +0.j ,\n",
              "          0. +0.j ,  0. +0.j ,  0. +0.j ],\n",
              "        [ 0. +0.j ,  0. +0.j ,  0.9+0.j ,  0. +0.3j,  0. +0.j ,\n",
              "          0. +0.j ,  0. +0.j ,  1. +0.j ],\n",
              "        [ 0. +0.j ,  0. +0.j ,  0. -0.3j,  0.9+0.j ,  0. +0.j ,\n",
              "          0. +0.j ,  1. +0.j ,  0. +0.j ],\n",
              "        [ 0. +0.j ,  1. +0.j ,  0. +0.j ,  0. +0.j , -0.9+0.j ,\n",
              "          0. +0.3j,  0. +0.j ,  0. +0.j ],\n",
              "        [ 1. +0.j ,  0. +0.j ,  0. +0.j ,  0. +0.j ,  0. -0.3j,\n",
              "         -0.9+0.j ,  0. +0.j ,  0. +0.j ],\n",
              "        [ 0. +0.j ,  0. +0.j ,  0. +0.j ,  1. +0.j ,  0. +0.j ,\n",
              "          0. +0.j , -0.9+0.j ,  0. +0.3j],\n",
              "        [ 0. +0.j ,  0. +0.j ,  1. +0.j ,  0. +0.j ,  0. +0.j ,\n",
              "          0. +0.j ,  0. -0.3j, -0.9+0.j ]])"
            ]
          },
          "metadata": {
            "tags": []
          },
          "execution_count": 18
        }
      ]
    },
    {
      "cell_type": "code",
      "metadata": {
        "id": "cPxVGSGGYndS",
        "colab_type": "code",
        "outputId": "7a5ee06d-1493-4da6-ccc3-1fd1f3ddd904",
        "colab": {
          "base_uri": "https://localhost:8080/",
          "height": 1000
        }
      },
      "source": [
        "e, v = LA.eigh(H)\n",
        "e, v"
      ],
      "execution_count": 0,
      "outputs": [
        {
          "output_type": "execute_result",
          "data": {
            "text/plain": [
              "(array([-1.56204994, -1.56204994, -1.16619038, -1.16619038,  1.16619038,\n",
              "         1.16619038,  1.56204994,  1.56204994]),\n",
              " matrix([[-1.16776447e-18+0.00000000e+00j,\n",
              "          -2.40717012e-01+0.00000000e+00j,\n",
              "          -3.76040841e-18-0.00000000e+00j,\n",
              "          -3.48390673e-01-0.00000000e+00j,\n",
              "           6.15227224e-01+0.00000000e+00j,\n",
              "           1.09271211e-02+0.00000000e+00j,\n",
              "          -6.64872062e-01+0.00000000e+00j,\n",
              "          -6.79420396e-04+0.00000000e+00j],\n",
              "         [ 8.54449685e-18+8.73770158e-17j,\n",
              "          -2.22044605e-16+2.40717012e-01j,\n",
              "           1.13926625e-17+1.14122939e-16j,\n",
              "           0.00000000e+00-3.48390673e-01j,\n",
              "          -1.66533454e-16+6.15227224e-01j,\n",
              "          -1.26634814e-16+1.09271211e-02j,\n",
              "          -1.11022302e-16+6.64872062e-01j,\n",
              "          -6.12032126e-17+6.79420396e-04j],\n",
              "         [ 2.40393039e-01-1.24846750e-02j,\n",
              "           0.00000000e+00-5.93870207e-18j,\n",
              "           3.46129922e-01+3.96249714e-02j,\n",
              "           0.00000000e+00+2.73324840e-18j,\n",
              "          -1.01375393e-02-4.07826822e-03j,\n",
              "           5.70771581e-01+2.29617812e-01j,\n",
              "          -6.38607340e-04-2.31932617e-04j,\n",
              "           6.24932930e-01+2.26966277e-01j],\n",
              "         [-1.24846750e-02-2.40393039e-01j,\n",
              "           0.00000000e+00-2.81206394e-17j,\n",
              "          -3.96249714e-02+3.46129922e-01j,\n",
              "           0.00000000e+00+1.68835375e-17j,\n",
              "           4.07826822e-03-1.01375393e-02j,\n",
              "          -2.29617812e-01+5.70771581e-01j,\n",
              "          -2.31932617e-04+6.38607340e-04j,\n",
              "           2.26966277e-01-6.24932930e-01j],\n",
              "         [ 0.00000000e+00-5.03069808e-17j,\n",
              "           1.76756462e-16-6.64872409e-01j,\n",
              "           0.00000000e+00-1.24900090e-16j,\n",
              "          -1.63584076e-16+6.15324255e-01j,\n",
              "          -9.36750677e-17+3.48335735e-01j,\n",
              "           0.00000000e+00+6.18683084e-03j,\n",
              "          -6.39679282e-17+2.40716887e-01j,\n",
              "           0.00000000e+00+2.45984110e-04j],\n",
              "         [ 3.12326443e-17-2.56334905e-18j,\n",
              "           6.64872409e-01+0.00000000e+00j,\n",
              "           4.95760202e-17-3.41779874e-18j,\n",
              "           6.15324255e-01-2.77555756e-17j,\n",
              "           3.48335735e-01+0.00000000e+00j,\n",
              "           6.18683084e-03+3.64291930e-17j,\n",
              "          -2.40716887e-01+1.11022302e-16j,\n",
              "          -2.45984110e-04+1.82145965e-17j],\n",
              "         [ 3.44832958e-02+6.63977577e-01j,\n",
              "          -1.02330047e-17+4.00580276e-17j,\n",
              "           6.99852432e-02-6.11331338e-01j,\n",
              "           7.32108567e-18-2.60589511e-17j,\n",
              "           2.30907623e-03-5.73977724e-03j,\n",
              "          -1.30007396e-01+3.23165378e-01j,\n",
              "          -8.39711891e-05+2.31207746e-04j,\n",
              "           8.21731258e-02-2.26256927e-01j],\n",
              "         [-6.63977577e-01+3.44832958e-02j,\n",
              "           1.07951972e-16+1.19210121e-17j,\n",
              "          -6.11331338e-01-6.99852432e-02j,\n",
              "          -7.60637600e-17-1.00516490e-17j,\n",
              "          -5.73977724e-03-2.30907623e-03j,\n",
              "           3.23165378e-01+1.30007396e-01j,\n",
              "          -2.31207746e-04-8.39711891e-05j,\n",
              "           2.26256927e-01+8.21731258e-02j]]))"
            ]
          },
          "metadata": {
            "tags": []
          },
          "execution_count": 19
        }
      ]
    },
    {
      "cell_type": "code",
      "metadata": {
        "id": "std1BZZQYth-",
        "colab_type": "code",
        "outputId": "425abf03-43f7-4913-ab7b-2dddc0bcad8d",
        "colab": {
          "base_uri": "https://localhost:8080/",
          "height": 156
        }
      },
      "source": [
        "# Lowest eigenvalue and eigenstate\n",
        "s0 = v[:,0]\n",
        "e[0], s0"
      ],
      "execution_count": 0,
      "outputs": [
        {
          "output_type": "execute_result",
          "data": {
            "text/plain": [
              "(-1.5620499351813313, matrix([[-1.16776447e-18+0.00000000e+00j],\n",
              "         [ 8.54449685e-18+8.73770158e-17j],\n",
              "         [ 2.40393039e-01-1.24846750e-02j],\n",
              "         [-1.24846750e-02-2.40393039e-01j],\n",
              "         [ 0.00000000e+00-5.03069808e-17j],\n",
              "         [ 3.12326443e-17-2.56334905e-18j],\n",
              "         [ 3.44832958e-02+6.63977577e-01j],\n",
              "         [-6.63977577e-01+3.44832958e-02j]]))"
            ]
          },
          "metadata": {
            "tags": []
          },
          "execution_count": 20
        }
      ]
    },
    {
      "cell_type": "code",
      "metadata": {
        "id": "5TLmr3NBakTv",
        "colab_type": "code",
        "outputId": "d35dec7a-e921-4d50-d670-fefbd0a207d0",
        "colab": {
          "base_uri": "https://localhost:8080/",
          "height": 156
        }
      },
      "source": [
        "# Lowest eigenvalue and eigenstate\n",
        "s1 = v[:,1]\n",
        "e[1], s1"
      ],
      "execution_count": 0,
      "outputs": [
        {
          "output_type": "execute_result",
          "data": {
            "text/plain": [
              "(-1.5620499351813302, matrix([[-2.40717012e-01+0.00000000e+00j],\n",
              "         [-2.22044605e-16+2.40717012e-01j],\n",
              "         [ 0.00000000e+00-5.93870207e-18j],\n",
              "         [ 0.00000000e+00-2.81206394e-17j],\n",
              "         [ 1.76756462e-16-6.64872409e-01j],\n",
              "         [ 6.64872409e-01+0.00000000e+00j],\n",
              "         [-1.02330047e-17+4.00580276e-17j],\n",
              "         [ 1.07951972e-16+1.19210121e-17j]]))"
            ]
          },
          "metadata": {
            "tags": []
          },
          "execution_count": 21
        }
      ]
    },
    {
      "cell_type": "code",
      "metadata": {
        "id": "7AZWVVuYbkic",
        "colab_type": "code",
        "colab": {}
      },
      "source": [
        ""
      ],
      "execution_count": 0,
      "outputs": []
    }
  ]
}