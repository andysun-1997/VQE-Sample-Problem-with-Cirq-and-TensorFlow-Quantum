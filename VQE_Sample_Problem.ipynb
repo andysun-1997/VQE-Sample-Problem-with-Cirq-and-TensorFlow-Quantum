{
  "nbformat": 4,
  "nbformat_minor": 0,
  "metadata": {
    "colab": {
      "name": "VQE Sample Problem.ipynb",
      "provenance": [],
      "collapsed_sections": [],
      "authorship_tag": "ABX9TyOFitKEBTPsinAtwn7C8tNz",
      "include_colab_link": true
    },
    "kernelspec": {
      "name": "python3",
      "display_name": "Python 3"
    }
  },
  "cells": [
    {
      "cell_type": "markdown",
      "metadata": {
        "id": "view-in-github",
        "colab_type": "text"
      },
      "source": [
        "<a href=\"https://colab.research.google.com/github/andysun-1997/VQE-Sample-Problem-with-Cirq-and-TensorFlow-Quantum/blob/master/VQE_Sample_Problem.ipynb\" target=\"_parent\"><img src=\"https://colab.research.google.com/assets/colab-badge.svg\" alt=\"Open In Colab\"/></a>"
      ]
    },
    {
      "cell_type": "code",
      "metadata": {
        "id": "H7MFvuh7sVVE",
        "colab_type": "code",
        "colab": {}
      },
      "source": [
        "!pip install tensorflow==2.1.0"
      ],
      "execution_count": 0,
      "outputs": []
    },
    {
      "cell_type": "code",
      "metadata": {
        "id": "lNpSh-EOsc8W",
        "colab_type": "code",
        "colab": {}
      },
      "source": [
        "!pip install tensorflow-quantum"
      ],
      "execution_count": 0,
      "outputs": []
    },
    {
      "cell_type": "code",
      "metadata": {
        "id": "1A_ePPGzsy-B",
        "colab_type": "code",
        "colab": {}
      },
      "source": [
        "import tensorflow as tf\n",
        "import tensorflow_quantum as tfq\n",
        "\n",
        "import cirq\n",
        "import sympy\n",
        "import numpy as np\n",
        "\n",
        "# visualization tools\n",
        "%matplotlib inline\n",
        "import matplotlib.pyplot as plt\n",
        "from cirq.contrib.svg import SVGCircuit"
      ],
      "execution_count": 0,
      "outputs": []
    },
    {
      "cell_type": "code",
      "metadata": {
        "id": "GjbFUifexIfJ",
        "colab_type": "code",
        "colab": {}
      },
      "source": [
        "symbols = sympy.symbols('a b c d e f g h i')"
      ],
      "execution_count": 0,
      "outputs": []
    },
    {
      "cell_type": "code",
      "metadata": {
        "id": "oK-ceHyYvFBl",
        "colab_type": "code",
        "colab": {}
      },
      "source": [
        "q0, q1, q2 = cirq.GridQubit.rect(1, 3)"
      ],
      "execution_count": 0,
      "outputs": []
    },
    {
      "cell_type": "code",
      "metadata": {
        "id": "0fa7_Kr2J4gJ",
        "colab_type": "code",
        "colab": {}
      },
      "source": [
        "def get_var_form(symbols):\n",
        "  circuit = cirq.Circuit(\n",
        "    cirq.rx(symbols[0]).on(q0),\n",
        "    cirq.rx(symbols[1]).on(q1), \n",
        "    cirq.rx(symbols[2]).on(q2), cirq.CNOT(control=q0, target=q1), cirq.CNOT(control=q1, target=q2), \n",
        "    cirq.ry(symbols[3]).on(q0), cirq.ry(symbols[4]).on(q1), cirq.ry(symbols[5]).on(q2),\n",
        "    cirq.CNOT(control=q2, target=q1), cirq.CNOT(control=q1, target=q0),\n",
        "    cirq.rz(symbols[6]).on(q0), cirq.rz(symbols[7]).on(q1), cirq.rz(symbols[8]).on(q2))\n",
        "  return circuit"
      ],
      "execution_count": 0,
      "outputs": []
    },
    {
      "cell_type": "code",
      "metadata": {
        "id": "RSt2by8pXsvQ",
        "colab_type": "code",
        "outputId": "cd12cbd6-ab6d-4fcb-ef4f-a7457ed1b951",
        "colab": {
          "base_uri": "https://localhost:8080/",
          "height": 171
        }
      },
      "source": [
        "# Circuit Visualization\n",
        "circuit = get_var_form(symbols)\n",
        "SVGCircuit(circuit)"
      ],
      "execution_count": 48,
      "outputs": [
        {
          "output_type": "execute_result",
          "data": {
            "text/plain": [
              "<cirq.contrib.svg.svg.SVGCircuit at 0x7f6a598bd2e8>"
            ],
            "image/svg+xml": "<svg xmlns=\"http://www.w3.org/2000/svg\" width=\"547.7543359375\" height=\"150.0\"><line x1=\"34.7588671875\" x2=\"517.7543359375\" y1=\"25.0\" y2=\"25.0\" stroke=\"#1967d2\" stroke-width=\"1\" /><line x1=\"34.7588671875\" x2=\"517.7543359375\" y1=\"75.0\" y2=\"75.0\" stroke=\"#1967d2\" stroke-width=\"1\" /><line x1=\"34.7588671875\" x2=\"517.7543359375\" y1=\"125.0\" y2=\"125.0\" stroke=\"#1967d2\" stroke-width=\"1\" /><line x1=\"164.764375\" x2=\"164.764375\" y1=\"25.0\" y2=\"75.0\" stroke=\"black\" stroke-width=\"3\" /><line x1=\"227.0026953125\" x2=\"227.0026953125\" y1=\"75.0\" y2=\"125.0\" stroke=\"black\" stroke-width=\"3\" /><line x1=\"353.44421875\" x2=\"353.44421875\" y1=\"75.0\" y2=\"125.0\" stroke=\"black\" stroke-width=\"3\" /><line x1=\"413.44421875\" x2=\"413.44421875\" y1=\"25.0\" y2=\"75.0\" stroke=\"black\" stroke-width=\"3\" /><rect x=\"10.0\" y=\"5.0\" width=\"49.517734375\" height=\"40\" stroke=\"black\" fill=\"white\" stroke-width=\"0\" /><text x=\"34.7588671875\" y=\"25.0\" dominant-baseline=\"middle\" text-anchor=\"middle\" font-size=\"14px\">(0, 0): </text><rect x=\"10.0\" y=\"55.0\" width=\"49.517734375\" height=\"40\" stroke=\"black\" fill=\"white\" stroke-width=\"0\" /><text x=\"34.7588671875\" y=\"75.0\" dominant-baseline=\"middle\" text-anchor=\"middle\" font-size=\"14px\">(0, 1): </text><rect x=\"10.0\" y=\"105.0\" width=\"49.517734375\" height=\"40\" stroke=\"black\" fill=\"white\" stroke-width=\"0\" /><text x=\"34.7588671875\" y=\"125.0\" dominant-baseline=\"middle\" text-anchor=\"middle\" font-size=\"14px\">(0, 2): </text><rect x=\"79.517734375\" y=\"5.0\" width=\"45.246640625\" height=\"40\" stroke=\"black\" fill=\"white\" stroke-width=\"1\" /><text x=\"102.1410546875\" y=\"25.0\" dominant-baseline=\"middle\" text-anchor=\"middle\" font-size=\"14px\">Rx(a)</text><rect x=\"79.517734375\" y=\"55.0\" width=\"45.246640625\" height=\"40\" stroke=\"black\" fill=\"white\" stroke-width=\"1\" /><text x=\"102.1410546875\" y=\"75.0\" dominant-baseline=\"middle\" text-anchor=\"middle\" font-size=\"14px\">Rx(b)</text><rect x=\"79.517734375\" y=\"105.0\" width=\"45.246640625\" height=\"40\" stroke=\"black\" fill=\"white\" stroke-width=\"1\" /><text x=\"102.1410546875\" y=\"125.0\" dominant-baseline=\"middle\" text-anchor=\"middle\" font-size=\"14px\">Rx(c)</text><circle cx=\"164.764375\" cy=\"25.0\" r=\"10.0\" /><rect x=\"144.764375\" y=\"55.0\" width=\"40\" height=\"40\" stroke=\"black\" fill=\"white\" stroke-width=\"1\" /><text x=\"164.764375\" y=\"75.0\" dominant-baseline=\"middle\" text-anchor=\"middle\" font-size=\"18px\">X</text><circle cx=\"227.0026953125\" cy=\"75.0\" r=\"10.0\" /><rect x=\"204.764375\" y=\"105.0\" width=\"44.476640625\" height=\"40\" stroke=\"black\" fill=\"white\" stroke-width=\"1\" /><text x=\"227.0026953125\" y=\"125.0\" dominant-baseline=\"middle\" text-anchor=\"middle\" font-size=\"18px\">X</text><rect x=\"204.764375\" y=\"5.0\" width=\"44.476640625\" height=\"40\" stroke=\"black\" fill=\"white\" stroke-width=\"1\" /><text x=\"227.0026953125\" y=\"25.0\" dominant-baseline=\"middle\" text-anchor=\"middle\" font-size=\"14px\">Ry(d)</text><rect x=\"269.241015625\" y=\"55.0\" width=\"44.203203125\" height=\"40\" stroke=\"black\" fill=\"white\" stroke-width=\"1\" /><text x=\"291.34261718749997\" y=\"75.0\" dominant-baseline=\"middle\" text-anchor=\"middle\" font-size=\"14px\">Ry(e)</text><rect x=\"269.241015625\" y=\"105.0\" width=\"44.203203125\" height=\"40\" stroke=\"black\" fill=\"white\" stroke-width=\"1\" /><text x=\"291.34261718749997\" y=\"125.0\" dominant-baseline=\"middle\" text-anchor=\"middle\" font-size=\"14px\">Ry(f)</text><circle cx=\"353.44421875\" cy=\"125.0\" r=\"10.0\" /><rect x=\"333.44421875\" y=\"55.0\" width=\"40\" height=\"40\" stroke=\"black\" fill=\"white\" stroke-width=\"1\" /><text x=\"353.44421875\" y=\"75.0\" dominant-baseline=\"middle\" text-anchor=\"middle\" font-size=\"18px\">X</text><circle cx=\"413.44421875\" cy=\"75.0\" r=\"10.0\" /><rect x=\"393.44421875\" y=\"5.0\" width=\"40\" height=\"40\" stroke=\"black\" fill=\"white\" stroke-width=\"1\" /><text x=\"413.44421875\" y=\"25.0\" dominant-baseline=\"middle\" text-anchor=\"middle\" font-size=\"18px\">X</text><rect x=\"393.44421875\" y=\"105.0\" width=\"40\" height=\"40\" stroke=\"black\" fill=\"white\" stroke-width=\"1\" /><text x=\"413.44421875\" y=\"125.0\" dominant-baseline=\"middle\" text-anchor=\"middle\" font-size=\"14px\">Rz(i)</text><rect x=\"453.44421875\" y=\"5.0\" width=\"44.3101171875\" height=\"40\" stroke=\"black\" fill=\"white\" stroke-width=\"1\" /><text x=\"475.59927734375003\" y=\"25.0\" dominant-baseline=\"middle\" text-anchor=\"middle\" font-size=\"14px\">Rz(g)</text><rect x=\"453.44421875\" y=\"55.0\" width=\"44.3101171875\" height=\"40\" stroke=\"black\" fill=\"white\" stroke-width=\"1\" /><text x=\"475.59927734375003\" y=\"75.0\" dominant-baseline=\"middle\" text-anchor=\"middle\" font-size=\"14px\">Rz(h)</text></svg>"
          },
          "metadata": {
            "tags": []
          },
          "execution_count": 48
        }
      ]
    },
    {
      "cell_type": "code",
      "metadata": {
        "id": "TpJs6EopLZee",
        "colab_type": "code",
        "outputId": "d93b00ee-b0d4-409d-aa43-4d132d3b1abf",
        "colab": {
          "base_uri": "https://localhost:8080/",
          "height": 55
        }
      },
      "source": [
        "# Operator H\n",
        "ops = [cirq.PauliString([cirq.X(q0), cirq.X(q2)]) + 0.9*cirq.Z(q0) - 0.3*cirq.Y(q2)] \n",
        "ops"
      ],
      "execution_count": 49,
      "outputs": [
        {
          "output_type": "execute_result",
          "data": {
            "text/plain": [
              "[cirq.PauliSum(cirq.LinearDict({frozenset({(cirq.GridQubit(0, 0), cirq.X), (cirq.GridQubit(0, 2), cirq.X)}): (1+0j), frozenset({(cirq.GridQubit(0, 0), cirq.Z)}): (0.9+0j), frozenset({(cirq.GridQubit(0, 2), cirq.Y)}): (-0.3+0j)}))]"
            ]
          },
          "metadata": {
            "tags": []
          },
          "execution_count": 49
        }
      ]
    },
    {
      "cell_type": "code",
      "metadata": {
        "id": "klZvmQa1xiCg",
        "colab_type": "code",
        "colab": {}
      },
      "source": [
        "def energy(params):\n",
        "  values = [params]\n",
        "  qc = get_var_form(symbols)\n",
        "  expectation_layer = tfq.layers.Expectation()\n",
        "  output = expectation_layer( \n",
        "    qc, \n",
        "    symbol_names=symbols,\n",
        "    symbol_values=values, \n",
        "    operators=ops, \n",
        "    # initializer=tf.keras.initializers.RandomUniform(0, 2 * np.pi)\n",
        "  )\n",
        "  return float(output)"
      ],
      "execution_count": 0,
      "outputs": []
    },
    {
      "cell_type": "code",
      "metadata": {
        "id": "GYCdTpeguo1f",
        "colab_type": "code",
        "colab": {}
      },
      "source": [
        "from scipy.optimize import minimize\n",
        "from scipy import optimize\n",
        "import random\n",
        "\n",
        "params = [random.uniform(0, 2 * np.pi) for i in range(9)]\n",
        "b = (0, 2 * np.pi)\n",
        "bnds = [b,b,b,b,b,b,b,b,b]\n",
        "res = minimize(energy, params, method='Nelder-Mead', tol=0.001) # COBYLA ## Nelder-Mead # powell\n",
        "# res = minimize(energy, params, method='SLSQP', bounds=bnds, tol=0.001)\n",
        "\n",
        "# global optimization\n",
        "# res = optimize.dual_annealing(energy, bnds) # shgo ## dual_annealing (slow) # differential_evolution (very slow)"
      ],
      "execution_count": 0,
      "outputs": []
    },
    {
      "cell_type": "code",
      "metadata": {
        "id": "j7gVtekuCPXl",
        "colab_type": "code",
        "outputId": "512f29da-a503-441e-857e-981f39a432b0",
        "colab": {
          "base_uri": "https://localhost:8080/",
          "height": 711
        }
      },
      "source": [
        "print(res)"
      ],
      "execution_count": 63,
      "outputs": [
        {
          "output_type": "stream",
          "text": [
            " final_simplex: (array([[ 7.20409209e-01,  1.56865475e+00,  6.52863060e+00,\n",
            "         6.28347965e+00,  3.46296941e+00,  7.96294289e-04,\n",
            "         4.71289311e+00,  3.61815672e+00, -9.74715174e-04],\n",
            "       [ 7.20473142e-01,  1.56849941e+00,  6.52858155e+00,\n",
            "         6.28319601e+00,  3.46315127e+00,  7.85413043e-04,\n",
            "         4.71254016e+00,  3.61813930e+00, -1.11402066e-03],\n",
            "       [ 7.20357680e-01,  1.56868447e+00,  6.52865822e+00,\n",
            "         6.28323472e+00,  3.46291865e+00,  4.48133000e-04,\n",
            "         4.71238140e+00,  3.61771566e+00, -1.05089433e-03],\n",
            "       [ 7.20662505e-01,  1.56850283e+00,  6.52868590e+00,\n",
            "         6.28339923e+00,  3.46327124e+00,  5.28495586e-04,\n",
            "         4.71279601e+00,  3.61858922e+00, -1.18829446e-03],\n",
            "       [ 7.20420886e-01,  1.56902767e+00,  6.52856418e+00,\n",
            "         6.28343043e+00,  3.46282452e+00,  5.82837202e-04,\n",
            "         4.71264551e+00,  3.61772055e+00, -1.26747386e-03],\n",
            "       [ 7.20516649e-01,  1.56865816e+00,  6.52862424e+00,\n",
            "         6.28345396e+00,  3.46314349e+00,  4.21142288e-04,\n",
            "         4.71271253e+00,  3.61811637e+00, -1.31728529e-03],\n",
            "       [ 7.20264599e-01,  1.56867196e+00,  6.52873069e+00,\n",
            "         6.28318909e+00,  3.46310400e+00,  6.00860037e-04,\n",
            "         4.71310101e+00,  3.61783157e+00, -1.14211345e-03],\n",
            "       [ 7.20714331e-01,  1.56867691e+00,  6.52844582e+00,\n",
            "         6.28347920e+00,  3.46295282e+00,  1.13586139e-03,\n",
            "         4.71219565e+00,  3.61842290e+00, -9.55784312e-04],\n",
            "       [ 7.20473714e-01,  1.56848585e+00,  6.52874889e+00,\n",
            "         6.28326780e+00,  3.46310445e+00,  5.43795325e-04,\n",
            "         4.71275888e+00,  3.61823169e+00, -1.13536548e-03],\n",
            "       [ 7.20401970e-01,  1.56861907e+00,  6.52856694e+00,\n",
            "         6.28326950e+00,  3.46301649e+00,  5.59225212e-04,\n",
            "         4.71244671e+00,  3.61786142e+00, -1.21198165e-03]]), array([-1.56204891, -1.56204867, -1.56204855, -1.56204855, -1.56204844,\n",
            "       -1.56204844, -1.56204832, -1.5620482 , -1.5620482 , -1.56204796]))\n",
            "           fun: -1.5620489120483398\n",
            "       message: 'Optimization terminated successfully.'\n",
            "          nfev: 1074\n",
            "           nit: 736\n",
            "        status: 0\n",
            "       success: True\n",
            "             x: array([ 7.20409209e-01,  1.56865475e+00,  6.52863060e+00,  6.28347965e+00,\n",
            "        3.46296941e+00,  7.96294289e-04,  4.71289311e+00,  3.61815672e+00,\n",
            "       -9.74715174e-04])\n"
          ],
          "name": "stdout"
        }
      ]
    },
    {
      "cell_type": "code",
      "metadata": {
        "id": "dC3Vlk_3nEYG",
        "colab_type": "code",
        "outputId": "e1f9be4a-e528-49f5-fa76-50716371a2b5",
        "colab": {
          "base_uri": "https://localhost:8080/",
          "height": 35
        }
      },
      "source": [
        "# Benchmark: Difference between exact and estimated eigenvalues\n",
        "abs(res.fun - (-1.5620499351813313))"
      ],
      "execution_count": 64,
      "outputs": [
        {
          "output_type": "execute_result",
          "data": {
            "text/plain": [
              "1.0231329914400789e-06"
            ]
          },
          "metadata": {
            "tags": []
          },
          "execution_count": 64
        }
      ]
    },
    {
      "cell_type": "code",
      "metadata": {
        "id": "ZleS47c-dx-N",
        "colab_type": "code",
        "outputId": "c1053db3-5908-43d3-d21f-bc3bff9e466d",
        "colab": {
          "base_uri": "https://localhost:8080/",
          "height": 87
        }
      },
      "source": [
        "# Estimated eigenstate\n",
        "resolver = cirq.ParamResolver({symbols[0]: res.x[0], symbols[1]: res.x[1], symbols[2]: res.x[2], \n",
        "                               symbols[3]: res.x[3], symbols[4]: res.x[4], symbols[5]: res.x[5],\n",
        "                               symbols[6]: res.x[6], symbols[7]: res.x[7], symbols[8]: res.x[8]})\n",
        "qc = get_var_form(symbols)\n",
        "output_state = cirq.Simulator().simulate(qc, resolver).final_state\n",
        "output_state"
      ],
      "execution_count": 65,
      "outputs": [
        {
          "output_type": "execute_result",
          "data": {
            "text/plain": [
              "array([ 0.01340457-0.02148858j, -0.02141912-0.01271717j,\n",
              "       -0.20409162+0.12422292j,  0.12484835+0.204563j  ,\n",
              "        0.05953079+0.03621145j, -0.03633054+0.05949059j,\n",
              "       -0.3439627 -0.5655872j ,  0.5640402 -0.34375206j], dtype=complex64)"
            ]
          },
          "metadata": {
            "tags": []
          },
          "execution_count": 65
        }
      ]
    },
    {
      "cell_type": "code",
      "metadata": {
        "id": "P-tilrxHfD7-",
        "colab_type": "code",
        "colab": {}
      },
      "source": [
        ""
      ],
      "execution_count": 0,
      "outputs": []
    }
  ]
}